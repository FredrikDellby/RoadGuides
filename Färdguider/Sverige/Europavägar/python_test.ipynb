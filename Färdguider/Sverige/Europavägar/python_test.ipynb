{
 "cells": [
  {
   "cell_type": "code",
   "execution_count": null,
   "metadata": {},
   "outputs": [],
   "source": [
    "class RoadPoint:\n",
    "    def __init__(self, name):\n",
    "        self.name = name\n",
    "        self.inputs = {}\n",
    "        self.outputs = {}\n",
    "        self.names = {}\n",
    "    \n",
    "    def add_input(self, road, point_from, spec_name=None):\n",
    "        self.inputs[road] = point_from\n",
    "        if spec_name:\n",
    "            self.names[road] = spec_name\n",
    "    \n",
    "    def add_output(self, road, point_to):\n",
    "        self.outputs[road] = point_to"
   ]
  }
 ],
 "metadata": {
  "kernelspec": {
   "display_name": "Python 3.9.13 64-bit (microsoft store)",
   "language": "python",
   "name": "python3"
  },
  "language_info": {
   "name": "python",
   "version": "3.9.13"
  },
  "orig_nbformat": 4,
  "vscode": {
   "interpreter": {
    "hash": "bfba518d736bfbcbaa0bd89ac5c9ab5d52cbf956705861cd934dec475dab047d"
   }
  }
 },
 "nbformat": 4,
 "nbformat_minor": 2
}
